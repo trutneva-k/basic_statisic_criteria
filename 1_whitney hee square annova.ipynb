{
 "cells": [
  {
   "cell_type": "markdown",
   "id": "c917470f",
   "metadata": {},
   "source": [
    "**Тест Манна-Уитни,**\n",
    "\n",
    "также известный как критерий Манна-Уитни U или U-тест, является непараметрическим статистическим тестом, используемым для сравнения двух независимых выборок. Он служит альтернативой t-тесту для независимых выборок, когда не выполняется предположение о нормальности распределения данных или равенстве дисперсий. Тест используется для определения, различаются ли две выборки статистически значимо по своим медианным значениям"
   ]
  },
  {
   "cell_type": "code",
   "execution_count": 1,
   "id": "6bf0c2a7",
   "metadata": {},
   "outputs": [
    {
     "name": "stdout",
     "output_type": "stream",
     "text": [
      "Статистика U: 12.0\n",
      "p-значение: 1.0\n",
      "Не отвергаем нулевую гипотезу: нет статистически значимых различий между группами.\n"
     ]
    }
   ],
   "source": [
    "from scipy.stats import mannwhitneyu\n",
    "\n",
    "# Данные двух групп\n",
    "group_a = [85, 78, 92, 88, 76]\n",
    "group_b = [91, 82, 89, 77, 80]\n",
    "\n",
    "# Выполнение теста Манна-Уитни\n",
    "statistic, p_value = mannwhitneyu(group_a, group_b, alternative='two-sided')\n",
    "\n",
    "# Вывод результатов\n",
    "print(f\"Статистика U: {statistic}\")\n",
    "print(f\"p-значение: {p_value}\")\n",
    "\n",
    "# Интерпретация результатов\n",
    "alpha = 0.05  # уровень значимости\n",
    "\n",
    "if p_value < alpha:\n",
    "    print(\"Отвергаем нулевую гипотезу: имеются статистически значимые различия между группами.\")\n",
    "else:\n",
    "    print(\"Не отвергаем нулевую гипотезу: нет статистически значимых различий между группами.\")\n"
   ]
  },
  {
   "cell_type": "markdown",
   "id": "48ebe0df",
   "metadata": {},
   "source": [
    "#### Хи-квадрат"
   ]
  },
  {
   "cell_type": "markdown",
   "id": "7a97098c",
   "metadata": {},
   "source": [
    "Критерий хи-квадрат (𝜒2) — это статистический тест, который используется для проверки гипотез о распределении категориальных данных. Он позволяет оценить, есть ли значимые различия между наблюдаемыми и ожидаемыми частотами в различных категориях."
   ]
  },
  {
   "cell_type": "markdown",
   "id": "39398e6a",
   "metadata": {},
   "source": [
    "Хи квадрат $ \\chi^2 $ расчитывается   по формуле:\n",
    "\n",
    "$$\n",
    "\\chi^2 = \\sum \\frac{(O_i - E_i)^2}{E_i}\n",
    "$$\n",
    "\n",
    "где:\n",
    "- $ O_i  $— это наблюдаемая частота,\n",
    "- $  E_i  $— это ожидаемая частота,\n",
    "- $ \\sum(...)  $суммирует все полученные значения для каждой категории.\n"
   ]
  },
  {
   "cell_type": "markdown",
   "id": "f5d3deb8",
   "metadata": {},
   "source": [
    "1. Строят таблицу сопряженности\n",
    "2. Считают ожидаемое значение\n",
    "3. считают хи-квадрат по формуле\n",
    "4. сравнивают значения по таблице распределений при заданном количестве степеней свободы\n"
   ]
  },
  {
   "cell_type": "markdown",
   "id": "413c4e4e",
   "metadata": {},
   "source": [
    "Предположим, у нас есть таблица сопряженности, показывающая предпочтения напитков (чай или кофе) у мужчин и женщин. Мы хотим выяснить, существует ли зависимость между полом и предпочтениями в напитках."
   ]
  },
  {
   "cell_type": "code",
   "execution_count": 4,
   "id": "f2fdd70f",
   "metadata": {},
   "outputs": [
    {
     "data": {
      "text/html": [
       "<div>\n",
       "<style scoped>\n",
       "    .dataframe tbody tr th:only-of-type {\n",
       "        vertical-align: middle;\n",
       "    }\n",
       "\n",
       "    .dataframe tbody tr th {\n",
       "        vertical-align: top;\n",
       "    }\n",
       "\n",
       "    .dataframe thead th {\n",
       "        text-align: right;\n",
       "    }\n",
       "</style>\n",
       "<table border=\"1\" class=\"dataframe\">\n",
       "  <thead>\n",
       "    <tr style=\"text-align: right;\">\n",
       "      <th></th>\n",
       "      <th>Чай</th>\n",
       "      <th>Кофе</th>\n",
       "      <th>Итого</th>\n",
       "    </tr>\n",
       "  </thead>\n",
       "  <tbody>\n",
       "    <tr>\n",
       "      <th>Мужчины</th>\n",
       "      <td>30</td>\n",
       "      <td>20</td>\n",
       "      <td>50</td>\n",
       "    </tr>\n",
       "    <tr>\n",
       "      <th>Женщины</th>\n",
       "      <td>20</td>\n",
       "      <td>30</td>\n",
       "      <td>50</td>\n",
       "    </tr>\n",
       "    <tr>\n",
       "      <th>Итого</th>\n",
       "      <td>50</td>\n",
       "      <td>50</td>\n",
       "      <td>100</td>\n",
       "    </tr>\n",
       "  </tbody>\n",
       "</table>\n",
       "</div>"
      ],
      "text/plain": [
       "         Чай  Кофе  Итого\n",
       "Мужчины   30    20     50\n",
       "Женщины   20    30     50\n",
       "Итого     50    50    100"
      ]
     },
     "execution_count": 4,
     "metadata": {},
     "output_type": "execute_result"
    }
   ],
   "source": [
    "import pandas as pd\n",
    "\n",
    "# Создание данных\n",
    "data = {\n",
    "    'Чай': [30, 20, 50],\n",
    "    'Кофе': [20, 30, 50],\n",
    "    'Итого': [50, 50, 100]\n",
    "}\n",
    "\n",
    "# Индексы строк\n",
    "index = ['Мужчины', 'Женщины', 'Итого']\n",
    "\n",
    "# Создание DataFrame\n",
    "df = pd.DataFrame(data, index=index)\n",
    "\n",
    "# Вывод DataFrame\n",
    "df\n"
   ]
  },
  {
   "cell_type": "code",
   "execution_count": 6,
   "id": "7653c857",
   "metadata": {},
   "outputs": [
    {
     "name": "stdout",
     "output_type": "stream",
     "text": [
      "Не отвергаем нулевую гипотезу: нет статистически значимой зависимости между полом и предпочтением напитков.\n",
      "Статистика хи-квадрат: 4.0\n",
      "p-значение: 0.40600584970983794\n",
      "Степени свободы: 4\n",
      "Ожидаемые частоты:\n",
      "[[ 25.  25.  50.]\n",
      " [ 25.  25.  50.]\n",
      " [ 50.  50. 100.]]\n"
     ]
    }
   ],
   "source": [
    "# Преобразование DataFrame в массив numpy для расчёта хи-квадрат\n",
    "observed = df.values\n",
    "\n",
    "# Применение теста хи-квадрат\n",
    "chi2, p, dof, expected = chi2_contingency(observed)\n",
    "\n",
    "# Вывод результатов\n",
    "alpha = 0.05  # уровень значимости\n",
    "\n",
    "if p < alpha:\n",
    "    print(\"Отвергаем нулевую гипотезу: существует статистически значимая зависимость между полом и предпочтением напитков.\")\n",
    "else:\n",
    "    print(\"Не отвергаем нулевую гипотезу: нет статистически значимой зависимости между полом и предпочтением напитков.\")\n",
    "\n",
    "\n",
    "print(f\"Статистика хи-квадрат: {chi2}\")\n",
    "print(f\"p-значение: {p}\")\n",
    "print(f\"Степени свободы: {dof}\")\n",
    "print(\"Ожидаемые частоты:\")\n",
    "print(expected)"
   ]
  },
  {
   "cell_type": "markdown",
   "id": "89ceef58",
   "metadata": {},
   "source": [
    "#### ANOVA"
   ]
  },
  {
   "cell_type": "markdown",
   "id": "681bdd67",
   "metadata": {},
   "source": [
    "ANOVA, или анализ дисперсии, — это метод, используемый для сравнения средних значений трех или более групп, чтобы определить, влияет ли независимая переменная на зависимую переменную. \n",
    "\n",
    "Частный случай линейной модели\n",
    "\n",
    "\n",
    "1. Постановка гипотез\n",
    "2. Расчет общей дисперсии данных и разделение её на компоненты: между группами и внутри групп.\n",
    "3. Вычисление F-статистики как отношение дисперсии между группами к дисперсии внутри групп."
   ]
  },
  {
   "cell_type": "markdown",
   "id": "4e98e200",
   "metadata": {},
   "source": [
    "Допустим мы хотим понять какой тип диеты лучше для похудения"
   ]
  },
  {
   "cell_type": "code",
   "execution_count": 7,
   "id": "0f9bbd2e",
   "metadata": {},
   "outputs": [
    {
     "name": "stdout",
     "output_type": "stream",
     "text": [
      "Статистика F: 29.797909407665532\n",
      "p-значение: 2.2169786683477276e-05\n",
      "            sum_sq    df          F    PR(>F)\n",
      "C(diet)   5.701333   2.0  29.797909  0.000022\n",
      "Residual  1.148000  12.0        NaN       NaN\n"
     ]
    }
   ],
   "source": [
    "import pandas as pd\n",
    "from scipy.stats import f_oneway\n",
    "import statsmodels.api as sm\n",
    "from statsmodels.formula.api import ols\n",
    "\n",
    "# Создание DataFrame с данными\n",
    "data = pd.DataFrame({\n",
    "    'weight_loss': [2.5, 3.0, 2.8, 3.2, 2.7, 3.0, 3.5, 3.2, 3.8, 3.1, 4.0, 4.5, 4.2, 4.8, 4.1],\n",
    "    'diet': ['A', 'A', 'A', 'A', 'A', 'B', 'B', 'B', 'B', 'B', 'C', 'C', 'C', 'C', 'C']\n",
    "})\n",
    "\n",
    "# Проведение однофакторного ANOVA с помощью scipy\n",
    "anova_result = f_oneway(\n",
    "    data[data['diet'] == 'A']['weight_loss'],\n",
    "    data[data['diet'] == 'B']['weight_loss'],\n",
    "    data[data['diet'] == 'C']['weight_loss']\n",
    ")\n",
    "\n",
    "print(\"Статистика F:\", anova_result.statistic)\n",
    "print(\"p-значение:\", anova_result.pvalue)\n",
    "\n",
    "# Проведение однофакторного ANOVA с помощью statsmodels для более детальной информации\n",
    "model = ols('weight_loss ~ C(diet)', data=data).fit()\n",
    "anova_table = sm.stats.anova_lm(model, typ=2)\n",
    "\n",
    "print(anova_table)\n"
   ]
  },
  {
   "cell_type": "markdown",
   "id": "70e08a33",
   "metadata": {},
   "source": [
    "F-статистика: Показывает отношение между вариацией внутри групп и между группами. Большие значения указывают на то, что вариация между группами значительно выше, чем внутри групп.\n",
    "\n",
    "p-значение: Если p-значение меньше 0.05, мы отвергаем нулевую гипотезу о равенстве средних, что означает, что диеты оказывают различное влияние на потерю веса."
   ]
  },
  {
   "cell_type": "code",
   "execution_count": null,
   "id": "d183d1fc",
   "metadata": {},
   "outputs": [],
   "source": []
  },
  {
   "cell_type": "code",
   "execution_count": null,
   "id": "030651e8",
   "metadata": {},
   "outputs": [],
   "source": []
  },
  {
   "cell_type": "code",
   "execution_count": null,
   "id": "81e36c6a",
   "metadata": {},
   "outputs": [],
   "source": []
  },
  {
   "cell_type": "code",
   "execution_count": null,
   "id": "27e687d4",
   "metadata": {},
   "outputs": [],
   "source": []
  }
 ],
 "metadata": {
  "kernelspec": {
   "display_name": "Python 3 (ipykernel)",
   "language": "python",
   "name": "python3"
  },
  "language_info": {
   "codemirror_mode": {
    "name": "ipython",
    "version": 3
   },
   "file_extension": ".py",
   "mimetype": "text/x-python",
   "name": "python",
   "nbconvert_exporter": "python",
   "pygments_lexer": "ipython3",
   "version": "3.10.9"
  }
 },
 "nbformat": 4,
 "nbformat_minor": 5
}
